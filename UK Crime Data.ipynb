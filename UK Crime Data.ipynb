{
 "cells": [
  {
   "cell_type": "code",
   "execution_count": 1,
   "metadata": {
    "collapsed": false,
    "scrolled": false
   },
   "outputs": [],
   "source": [
    "# Finding all kinds of crime,\n",
    "# for all months and years\n",
    "import os\n",
    "import csv\n",
    "import pandas as pd\n",
    "from collections import Counter\n",
    "\n",
    "yearvector = [\"2011\", \"2012\", \"2013\", \"2014\", \"2015\"]\n",
    "monthvector = [\"01\", \"02\", \"03\", \"04\", \"05\", \"06\", \"07\", \"08\", \"09\", \"10\", \"11\", \"12\"]\n",
    "tail = \"-street.csv\"\n",
    "\n",
    "list = [\"avon-and-somerset\",\"bedfordshire\",\"btp\",\"cambridgeshire\",\"cheshire\"\n",
    "        ,\"city-of-london\",\"cleveland\",\"cumbria\",\"derbyshire\",\"devon-and-cornwall\"\n",
    "       ,\"dorset\",\"durham\",\"dyfed-powys\",\"essex\",\"gloucestershire\",\"greater-manchester\"\n",
    "        ,\"gwent\",\"hampshire\",\"hertfordshire\",\"humberside\",\"kent\",\"lancashire\",\"leicestershire\",\n",
    "       \"lincolnshire\",\"merseyside\",\"metropolitan\",\"norfolk\",\"northamptonshire\",\"northumbria\",\"north-wales\",\"north-yorkshire\",\n",
    "       \"nottinghamshire\",\"south-wales\",\"south-yorkshire\",\"staffordshire\",\"suffolk\",\"surrey\",\"sussex\",\"thames-valley\"\n",
    "       ,\"warwickshire\",\"west-mercia\",\"west-midlands\",\"west-yorkshire\",\"wiltshire\"]\n",
    "\n",
    "stop = 0\n",
    "\n",
    "for year in yearvector:\n",
    "    for month in monthvector:\n",
    "        crimecount = Counter()\n",
    "        if stop == 1:\n",
    "            break\n",
    "        if year == \"2015\" and month == \"09\":\n",
    "            stop = 1\n",
    "        for i in range(len(list)):\n",
    "            os.chdir(\"//files.umn.edu//cla//Home//leung085//My Documents//Ramadan//Dependent Variables//2015-09//\" + year + \"-\" + month)\n",
    "            df = pd.read_csv(year + \"-\" + month + \"-\" + list[i] + tail)\n",
    "            saved_column = df['LSOA code']\n",
    "            crimecount = crimecount + Counter(saved_column)\n",
    "        \n",
    "        os.chdir(\"//files.umn.edu//cla//Home//leung085//My Documents//Ramadan//Dependent Variables//\")\n",
    "        the_file = open(\"crime_by_lsoa_\"+ year + \"_\" + month +\".csv\",\"wb+\")\n",
    "\n",
    "        f = csv.writer(the_file)\n",
    "\n",
    "        for key in crimecount.iteritems():\n",
    "            f.writerow([key[0], key[1]])\n",
    "\n",
    "        the_file.close()"
   ]
  },
  {
   "cell_type": "code",
   "execution_count": 11,
   "metadata": {
    "collapsed": false
   },
   "outputs": [],
   "source": [
    "# Finding specific kinds of crime, FOR ALL MONTHS AND YEARS\n",
    "\n",
    "#Anti-Social Behaviour\n",
    "#Robbery\n",
    "#Burglary\n",
    "#Vehicle Crime\n",
    "#Violent Crime\n",
    "#Theft - Shoplifting\n",
    "#Drugs\n",
    "#Criminal Damage and Arson\n",
    "#Theft - Other\n",
    "#Bike Theft\n",
    "#Theft From the Person\n",
    "#Possession of Weapons\n",
    "#Public Order\n",
    "#Other Crime\n",
    "\n",
    "import os\n",
    "import csv\n",
    "import pandas as pd\n",
    "from collections import Counter\n",
    "\n",
    "yearvector = [\"2015\"]\n",
    "monthvector = [\"09\"]\n",
    "#yearvector = [\"2011\", \"2012\", \"2013\", \"2014\", \"2015\"]\n",
    "#monthvector = [\"01\", \"02\", \"03\", \"04\", \"05\", \"06\", \"07\", \"08\", \"09\", \"10\", \"11\", \"12\"]\n",
    "tail = \"-street.csv\"\n",
    "\n",
    "list = [\"avon-and-somerset\",\"bedfordshire\",\"btp\",\"cambridgeshire\",\"cheshire\"\n",
    "        ,\"city-of-london\",\"cleveland\",\"cumbria\",\"derbyshire\",\"devon-and-cornwall\"\n",
    "       ,\"dorset\",\"durham\",\"dyfed-powys\",\"essex\",\"gloucestershire\",\"greater-manchester\"\n",
    "        ,\"gwent\",\"hampshire\",\"hertfordshire\",\"humberside\",\"kent\",\"lancashire\",\"leicestershire\",\n",
    "       \"lincolnshire\",\"merseyside\",\"metropolitan\",\"norfolk\",\"northamptonshire\",\"northumbria\",\"north-wales\",\"north-yorkshire\",\n",
    "       \"nottinghamshire\",\"south-wales\",\"south-yorkshire\",\"staffordshire\",\"suffolk\",\"surrey\",\"sussex\",\"thames-valley\"\n",
    "       ,\"warwickshire\",\"west-mercia\",\"west-midlands\",\"west-yorkshire\",\"wiltshire\"]\n",
    "\n",
    "allcrimetypes = [\"Anti-social behaviour\", \"Robbery\", \"Burglary\", \"Vehicle crime\"\n",
    "             , \"Violent crime\", \"Shoplifting\", \"Drugs\", \"Criminal damage and arson\", \"Other crime\"\n",
    "            ,\"Public disorder and weapons\",\"Other theft\", \"Public order\"\n",
    "                 , \"Violence and sexual offences\", \"Bicycle theft\",\"Possession of weapons\"\n",
    "                 ,\"Vehicle crime\",\"Theft from the person\"]\n",
    "\n",
    "stop = 0\n",
    "\n",
    "for year in yearvector:\n",
    "    for month in monthvector:\n",
    "        if stop == 1:\n",
    "            break\n",
    "        for j in allcrimetypes:\n",
    "            crimecount = Counter()\n",
    "            if year == \"2015\" and month == \"09\":\n",
    "                stop = 1\n",
    "            for i in range(len(list)):\n",
    "                os.chdir(\"//files.umn.edu//cla//Home//leung085//My Documents//Ramadan//Dependent Variables//2015-09//\" + year + \"-\" + month)\n",
    "                df = pd.read_csv(year + \"-\" + month + \"-\" + list[i] + tail)\n",
    "                # the key change from finding all crimes\n",
    "                saved_column = df[['LSOA code','Crime type']]\n",
    "                newcolumn = saved_column.loc[saved_column['Crime type'] == j]\n",
    "                newcolumn = newcolumn['LSOA code']\n",
    "                crimecount = crimecount + Counter(newcolumn)\n",
    "\n",
    "            os.chdir(\"//files.umn.edu//cla//Home//leung085//My Documents//Ramadan//Dependent Variables\")\n",
    "            the_file = open(j + year + \"-\" + month + \".csv\",\"wb+\")\n",
    "\n",
    "            f = csv.writer(the_file)\n",
    "            \n",
    "            for key in crimecount.iteritems():\n",
    "                f.writerow([key[0], key[1]])\n",
    "\n",
    "            the_file.close()\n"
   ]
  },
  {
   "cell_type": "code",
   "execution_count": 3,
   "metadata": {
    "collapsed": false
   },
   "outputs": [
    {
     "ename": "ImportError",
     "evalue": "No module named basemap",
     "output_type": "error",
     "traceback": [
      "\u001b[1;31m---------------------------------------------------------------------------\u001b[0m",
      "\u001b[1;31mImportError\u001b[0m                               Traceback (most recent call last)",
      "\u001b[1;32m<ipython-input-3-b4997d3e98c6>\u001b[0m in \u001b[0;36m<module>\u001b[1;34m()\u001b[0m\n\u001b[1;32m----> 1\u001b[1;33m \u001b[1;32mfrom\u001b[0m \u001b[0mmpl_toolkits\u001b[0m\u001b[1;33m.\u001b[0m\u001b[0mbasemap\u001b[0m \u001b[1;32mimport\u001b[0m \u001b[0mBasemap\u001b[0m\u001b[1;33m\u001b[0m\u001b[0m\n\u001b[0m\u001b[0;32m      2\u001b[0m \u001b[1;32mimport\u001b[0m \u001b[0mmatplotlib\u001b[0m\u001b[1;33m.\u001b[0m\u001b[0mpyplot\u001b[0m \u001b[1;32mas\u001b[0m \u001b[0mplt\u001b[0m\u001b[1;33m\u001b[0m\u001b[0m\n",
      "\u001b[1;31mImportError\u001b[0m: No module named basemap"
     ]
    }
   ],
   "source": []
  },
  {
   "cell_type": "code",
   "execution_count": 6,
   "metadata": {
    "collapsed": false,
    "scrolled": true
   },
   "outputs": [],
   "source": []
  },
  {
   "cell_type": "code",
   "execution_count": 4,
   "metadata": {
    "collapsed": false
   },
   "outputs": [],
   "source": []
  },
  {
   "cell_type": "code",
   "execution_count": null,
   "metadata": {
    "collapsed": true
   },
   "outputs": [],
   "source": []
  }
 ],
 "metadata": {
  "kernelspec": {
   "display_name": "Python 2",
   "language": "python",
   "name": "python2"
  },
  "language_info": {
   "codemirror_mode": {
    "name": "ipython",
    "version": 2
   },
   "file_extension": ".py",
   "mimetype": "text/x-python",
   "name": "python",
   "nbconvert_exporter": "python",
   "pygments_lexer": "ipython2",
   "version": "2.7.5"
  }
 },
 "nbformat": 4,
 "nbformat_minor": 0
}
